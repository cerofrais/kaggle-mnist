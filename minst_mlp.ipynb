{
  "cells": [
    {
      "metadata": {
        "_cell_guid": "b1076dfc-b9ad-4769-8c92-a6c4dae69d19",
        "_uuid": "8f2839f25d086af736a60e9eeb907d3b93b6e0e5",
        "trusted": false,
        "collapsed": true
      },
      "cell_type": "code",
      "source": "# This Python 3 environment comes with many helpful analytics libraries installed\n# It is defined by the kaggle/python docker image: https://github.com/kaggle/docker-python\n# For example, here's several helpful packages to load in \n\nimport numpy as np # linear algebra\nimport pandas as pd # data processing, CSV file I/O (e.g. pd.read_csv)\n\n# Input data files are available in the \"../input/\" directory.\n# For example, running this (by clicking run or pressing Shift+Enter) will list the files in the input directory\n\nimport os\nprint(os.listdir(\"../input\"))\n\n# Any results you write to the current directory are saved as output.",
      "execution_count": null,
      "outputs": []
    },
    {
      "metadata": {
        "collapsed": true,
        "_cell_guid": "09eb5106-48c8-4608-8c7b-f884d5af50e3",
        "_uuid": "2e9c3327a9db96d5d29eb1ea04ba926a8cf7d63c",
        "trusted": false
      },
      "cell_type": "code",
      "source": "import matplotlib.pyplot as plt\n%matplotlib inline\nfrom sklearn.model_selection import train_test_split",
      "execution_count": null,
      "outputs": []
    },
    {
      "metadata": {
        "collapsed": true,
        "_cell_guid": "79c7e3d0-c299-4dcb-8224-4455121ee9b0",
        "_uuid": "d629ff2d2480ee46fbb7e2d37f6b5fab8052498a",
        "trusted": false
      },
      "cell_type": "code",
      "source": "df_train=pd.read_csv('../input/train.csv')\ndf_test=pd.read_csv('../input/test.csv')\ndf_train_label=df_train['label']\ndf_train=df_train.drop(labels = [\"label\"],axis = 1)",
      "execution_count": null,
      "outputs": []
    },
    {
      "metadata": {
        "_cell_guid": "d4dea83b-c283-4928-ba62-9f49421a6802",
        "_uuid": "3975abafa6181bef75fc944f2a7a2ee8fdc82327",
        "trusted": false,
        "collapsed": true
      },
      "cell_type": "code",
      "source": "# data set is balance\ndf_train_label.value_counts() ",
      "execution_count": null,
      "outputs": []
    },
    {
      "metadata": {
        "_cell_guid": "e2d853db-2ffa-408e-80dd-744e5b31357b",
        "_uuid": "4c24b70c6b980d9e9b6d7fb4148b9a692ed1c6ca",
        "trusted": false,
        "collapsed": true
      },
      "cell_type": "code",
      "source": "plt.imshow(df_train.iloc[1].values.reshape(28,28), cmap='gray')\nplt.title(df_train_label.iloc[1])",
      "execution_count": null,
      "outputs": []
    },
    {
      "metadata": {
        "collapsed": true,
        "_cell_guid": "73df6250-5ad1-4289-94af-60f608179cc4",
        "_uuid": "23a6ee504d6f96aba265163a12512607113a7bf6",
        "trusted": false
      },
      "cell_type": "code",
      "source": "Y_train = pd.get_dummies(df_train_label)",
      "execution_count": null,
      "outputs": []
    },
    {
      "metadata": {
        "collapsed": true,
        "_cell_guid": "8d1d4e6f-774e-46bb-9da0-bb18dd353c91",
        "_uuid": "4f82020e655c4b851609cd2b005f3678bcb7363a",
        "trusted": false
      },
      "cell_type": "code",
      "source": "X_train, X_val, Y_train, Y_val = train_test_split(df_train.values, df_train_label.values, test_size = 0.2, random_state=1)",
      "execution_count": null,
      "outputs": []
    },
    {
      "metadata": {
        "_cell_guid": "9160f4b7-575e-4d5c-aa42-fda90e2a6f87",
        "_uuid": "2853e5f5835d02f463111327a842d2f814f8a2d3"
      },
      "cell_type": "markdown",
      "source": "**#MLP**"
    },
    {
      "metadata": {
        "collapsed": true,
        "_cell_guid": "9335d2b7-fde4-4657-b0f8-756f116e06c5",
        "_uuid": "f250c8cb39cd9ec80f6a12419796a490dc79b5e6",
        "trusted": false
      },
      "cell_type": "code",
      "source": "num_examples = X_train.shape[0]      ## training set size\nnn_input_dim = X_train.shape[1]      ## input layer dimensionality\nnn_output_dim = len(np.unique(df_train_label))       ## output layer dimensionality",
      "execution_count": null,
      "outputs": []
    },
    {
      "metadata": {
        "_cell_guid": "f2212be2-3389-4982-acd3-a9740bdb04ba",
        "_uuid": "15bf46d624e981b1427ffe96c5d3f01c4f54bd40",
        "trusted": false,
        "collapsed": true
      },
      "cell_type": "code",
      "source": "nn_output_dim",
      "execution_count": null,
      "outputs": []
    },
    {
      "metadata": {
        "collapsed": true,
        "_cell_guid": "a1927b80-c541-4e16-b44b-fcde21074502",
        "_uuid": "642c3746e4a36433e64bba07f631972f1fd4f658",
        "trusted": false
      },
      "cell_type": "code",
      "source": "params = {\n    \"lr\":1e-5,        ## learning_rate\n    \"max_iter\":500,\n    \"h_dimn\":40,     ## hidden_layer_size\n    \"regL1\":1,\n    \"regL2\":1,\n}",
      "execution_count": null,
      "outputs": []
    },
    {
      "metadata": {
        "collapsed": true,
        "_cell_guid": "57c48079-aea7-4f13-b397-23af1407147a",
        "_uuid": "3e18a67ffb0293103bf534b6b59967aa061d4e0f",
        "trusted": false
      },
      "cell_type": "code",
      "source": "def build_model():\n    hdim = params[\"h_dimn\"]\n    # Initialize the parameters to random values.\n    np.random.seed(0)\n    W1 = np.random.randn(nn_input_dim, hdim) / np.sqrt(nn_input_dim)\n    b1 = np.zeros((1, hdim))\n    W2 = np.random.randn(hdim, nn_output_dim) / np.sqrt(hdim)\n    b2 = np.zeros((1, nn_output_dim))\n\n    # This is what we return at the end\n    model = { 'W1': W1, 'b1': b1, 'W2': W2, 'b2': b2}\n    return model\n\ndef softmax(x):\n    exp_scores = np.exp(x)\n    probs = exp_scores / np.sum(exp_scores, axis=1, keepdims=True)\n    return probs\n\ndef feedforward(model, x):\n    W1, b1, W2, b2 = model['W1'], model['b1'], model['W2'], model['b2']\n    #print(x.shape,W1.shape)\n    z1 = x.dot(W1) + b1\n    a1 = np.tanh(z1)\n    z2 = a1.dot(W2) + b2\n    probs = softmax(z2)\n    return a1, probs\n\ndef backpropagation(model, x, y, a1, probs):\n    W1, b1, W2, b2 = model['W1'], model['b1'], model['W2'], model['b2']\n    \n    delta3 = probs\n    delta3[range(y.shape[0]), y] -= 1 \n    dW2 = (a1.T).dot(delta3)\n    db2 = np.sum(delta3, axis=0, keepdims=True)\n    delta2 = delta3.dot(W2.T) * (1 - np.power(a1, 2))\n    dW1 = np.dot(x.T, delta2)\n    db1 = np.sum(delta2, axis=0)\n    return dW2, db2, dW1, db1\n\ndef calculate_loss(model, x, y):\n    W1, b1, W2, b2 = model['W1'], model['b1'], model['W2'], model['b2']\n    \n    # Forward propagation to calculate predictions\n    _, probs = feedforward(model, x)\n    \n    # Calculating the cross entropy loss\n    corect_logprobs = -np.log(probs[range(y.shape[0]), y])\n    data_loss = np.sum(corect_logprobs)\n    #regularization\n    data_loss += params[\"regL2\"]/2 * (np.sum(np.square(W1)) + np.sum(np.square(W2)))\n    data_loss += params[\"regL1\"] * (np.linalg.norm(W1, ord=1) + np.linalg.norm(W2, ord=1))\n    \n    return 1./y.shape[0] * data_loss\n\ndef test(model, x, y):\n    W1, b1, W2, b2 = model['W1'], model['b1'], model['W2'], model['b2']\n    # Forward propagation to calculate predictions\n    _, probs = feedforward(model, x)\n    preds = np.argmax(probs, axis=1)\n    return np.count_nonzero(y==preds)/y.shape[0]\n\ndef train(model, X_train, X_test, Y_train, Y_test, print_loss=True):\n    # Gradient descent. For each batch...\n    W1, b1, W2, b2 = model['W1'], model['b1'], model['W2'], model['b2']\n    for i in range(0, params[\"max_iter\"]):\n\n        # Forward propagation\n        a1, probs = feedforward(model, X_train)\n\n        # Backpropagation\n        dW2, db2, dW1, db1 = backpropagation(model, X_train, Y_train, a1, probs)\n\n        # Gradient descent parameter update\n        W1 += -params[\"lr\"] * dW1\n        b1 += -params[\"lr\"] * db1\n        W2 += -params[\"lr\"] * dW2\n        b2 += -params[\"lr\"] * db2\n        \n        # Assign new parameters to the model\n        model = { 'W1': W1, 'b1': b1, 'W2': W2, 'b2': b2}\n        if print_loss and i % 50 == 0:\n            print(\"Loss after iteration %i: %f\" %(i, calculate_loss(model, X_train, Y_train)),\n                  \", Test accuracy:\", test(model, X_test, Y_test), \"\\n\")\n    return model",
      "execution_count": null,
      "outputs": []
    },
    {
      "metadata": {
        "_cell_guid": "9f27478a-a5b3-4953-85c6-8207b2aa00a2",
        "_uuid": "df00ba4804512486d907a7b67482ba54d307b02a",
        "trusted": false,
        "collapsed": true
      },
      "cell_type": "code",
      "source": "model = build_model()\n\n#X_train, X_test, Y_train, Y_test = train_test_split(X, Y, test_size=0.5)\n\nmodel = train(model, X_train, X_val, Y_train, Y_val)",
      "execution_count": null,
      "outputs": []
    },
    {
      "metadata": {
        "collapsed": true,
        "_cell_guid": "a700a3f4-4b0b-4c21-9c66-ae45fb971566",
        "_uuid": "472c6fd6969bbb64edae4fdcac0dee295c3b2682",
        "trusted": false
      },
      "cell_type": "code",
      "source": "fil=open('sub.csv','w')\ntest=df_test.values\nfil.write('ImageId,Label\\n')\nfor i in range(len(test)-1):\n    l,z=feedforward(model,test[i])\n    z=softmax(z)\n    p=np.argmax(z,axis=1)\n    fil.write('%d,%d\\n'%(i+1,p))\nl,z=feedforward(model,test[-1])\nz=softmax(z)\np=np.argmax(z,axis=1)\nfil.write('28000,%d\\n'%p)\nfil.close()",
      "execution_count": null,
      "outputs": []
    },
    {
      "metadata": {
        "_cell_guid": "ba09e057-1123-4c33-9767-900e034edc34",
        "_uuid": "702868742f521078665a2c549198abdae2960530",
        "trusted": false,
        "collapsed": true
      },
      "cell_type": "code",
      "source": "ls",
      "execution_count": null,
      "outputs": []
    },
    {
      "metadata": {
        "_cell_guid": "3bf6ca0b-0c04-4cca-904c-6a29bf7a9158",
        "_uuid": "a0c93b040939059fe7158df65e9a6fedfad2d38a"
      },
      "cell_type": "markdown",
      "source": "**#CNN**"
    },
    {
      "metadata": {
        "collapsed": true,
        "_cell_guid": "c2ef4ce5-dd44-4082-b455-bdb179ec3e73",
        "_uuid": "fa3d016d35e8ca520aaf8e79e60314cee99d3dfd",
        "trusted": false
      },
      "cell_type": "code",
      "source": "",
      "execution_count": null,
      "outputs": []
    }
  ],
  "metadata": {
    "language_info": {
      "name": "python",
      "version": "3.6.4",
      "mimetype": "text/x-python",
      "codemirror_mode": {
        "name": "ipython",
        "version": 3
      },
      "pygments_lexer": "ipython3",
      "nbconvert_exporter": "python",
      "file_extension": ".py"
    },
    "kernelspec": {
      "display_name": "Python 3",
      "language": "python",
      "name": "python3"
    }
  },
  "nbformat": 4,
  "nbformat_minor": 1
}